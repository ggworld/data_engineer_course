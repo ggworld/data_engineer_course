{
 "cells": [
  {
   "cell_type": "markdown",
   "id": "cultural-concrete",
   "metadata": {
    "toc": true
   },
   "source": [
    "<h1>Table of Contents<span class=\"tocSkip\"></span></h1>\n",
    "<div class=\"toc\"><ul class=\"toc-item\"><li><span><a href=\"#Data-Engineering-Course\" data-toc-modified-id=\"Data-Engineering-Course-1\"><span class=\"toc-item-num\">1&nbsp;&nbsp;</span>Data Engineering Course</a></span><ul class=\"toc-item\"><li><ul class=\"toc-item\"><li><span><a href=\"#Main-topics-and-need\" data-toc-modified-id=\"Main-topics-and-need-1.0.1\"><span class=\"toc-item-num\">1.0.1&nbsp;&nbsp;</span>Main topics and need</a></span></li></ul></li><li><span><a href=\"#Method-&amp;-Priciples\" data-toc-modified-id=\"Method-&amp;-Priciples-1.1\"><span class=\"toc-item-num\">1.1&nbsp;&nbsp;</span>Method &amp; Priciples</a></span></li><li><span><a href=\"#Partners-and-coperations\" data-toc-modified-id=\"Partners-and-coperations-1.2\"><span class=\"toc-item-num\">1.2&nbsp;&nbsp;</span>Partners and coperations</a></span></li><li><span><a href=\"#Main-topics\" data-toc-modified-id=\"Main-topics-1.3\"><span class=\"toc-item-num\">1.3&nbsp;&nbsp;</span>Main topics</a></span><ul class=\"toc-item\"><li><span><a href=\"#Data\" data-toc-modified-id=\"Data-1.3.1\"><span class=\"toc-item-num\">1.3.1&nbsp;&nbsp;</span>Data</a></span></li><li><span><a href=\"#Software\" data-toc-modified-id=\"Software-1.3.2\"><span class=\"toc-item-num\">1.3.2&nbsp;&nbsp;</span>Software</a></span></li></ul></li><li><span><a href=\"#Python\" data-toc-modified-id=\"Python-1.4\"><span class=\"toc-item-num\">1.4&nbsp;&nbsp;</span>Python</a></span></li><li><span><a href=\"#Cloud-and-infrustructure\" data-toc-modified-id=\"Cloud-and-infrustructure-1.5\"><span class=\"toc-item-num\">1.5&nbsp;&nbsp;</span>Cloud and infrustructure</a></span></li><li><span><a href=\"#Modern-Pipeline-and-ETL\" data-toc-modified-id=\"Modern-Pipeline-and-ETL-1.6\"><span class=\"toc-item-num\">1.6&nbsp;&nbsp;</span>Modern Pipeline and ETL</a></span><ul class=\"toc-item\"><li><span><a href=\"#the-GaD-framework\" data-toc-modified-id=\"the-GaD-framework-1.6.1\"><span class=\"toc-item-num\">1.6.1&nbsp;&nbsp;</span>the GaD framework</a></span></li></ul></li><li><span><a href=\"#Big-Data\" data-toc-modified-id=\"Big-Data-1.7\"><span class=\"toc-item-num\">1.7&nbsp;&nbsp;</span>Big Data</a></span></li><li><span><a href=\"#Advance-topics\" data-toc-modified-id=\"Advance-topics-1.8\"><span class=\"toc-item-num\">1.8&nbsp;&nbsp;</span>Advance topics</a></span></li></ul></li><li><span><a href=\"#Soft-skills\" data-toc-modified-id=\"Soft-skills-2\"><span class=\"toc-item-num\">2&nbsp;&nbsp;</span>Soft skills</a></span></li><li><span><a href=\"#Tools-and-Methods\" data-toc-modified-id=\"Tools-and-Methods-3\"><span class=\"toc-item-num\">3&nbsp;&nbsp;</span>Tools and Methods</a></span><ul class=\"toc-item\"><li><ul class=\"toc-item\"><li><span><a href=\"#Elementor-platform\" data-toc-modified-id=\"Elementor-platform-3.0.1\"><span class=\"toc-item-num\">3.0.1&nbsp;&nbsp;</span>Elementor platform</a></span></li></ul></li></ul></li></ul></div>"
   ]
  },
  {
   "cell_type": "markdown",
   "id": "0a98925f",
   "metadata": {},
   "source": [
    "# Data Engineering Course \n",
    "### Main topics and need "
   ]
  },
  {
   "cell_type": "markdown",
   "id": "e79570bf",
   "metadata": {},
   "source": [
    "The goal of this doc is gather a list of items needed as part of the Data Engineering Course. <br>\n",
    "This is an initial list and can be modified and changeded.\n"
   ]
  },
  {
   "cell_type": "markdown",
   "id": "dfe5c786",
   "metadata": {},
   "source": [
    "## Method & Priciples "
   ]
  },
  {
   "cell_type": "markdown",
   "id": "ce400f45",
   "metadata": {},
   "source": [
    "1. Many practice and hands-on \n",
    "2. We may use online materials such as : \n",
    "- https://victorytale.com/best-data-engineering-courses/\n",
    "- https://www.coursera.org/professional-certificates/ibm-data-engineer?action=enroll"
   ]
  },
  {
   "cell_type": "markdown",
   "id": "f809a4c3",
   "metadata": {},
   "source": [
    "## Partners and coperations "
   ]
  },
  {
   "cell_type": "markdown",
   "id": "8e417b83",
   "metadata": {},
   "source": [
    "1. Tmarim : https://www.tmarim.org/\n",
    "2. try to : AWS\n",
    "3. try to : Tapping Data - Engineers / Facebook -https://www.facebook.com/groups/data.engineering.israel/?ref=share\n",
    "4. optional : vision.bi / oracle / DataBricks "
   ]
  },
  {
   "cell_type": "markdown",
   "id": "6e8f6072",
   "metadata": {},
   "source": [
    "## Main topics"
   ]
  },
  {
   "cell_type": "markdown",
   "id": "f5c8510e",
   "metadata": {},
   "source": [
    "### Data"
   ]
  },
  {
   "cell_type": "markdown",
   "id": "9b2a240f-f750-450b-a329-07aaefdf52d7",
   "metadata": {},
   "source": [
    "1. Understand data.  ( need clarfication) \n",
    "1. SQL - \n",
    "    1. Basic (CTE)\n",
    "    1. CRUD / ACID\n",
    "    1. Aggerations/ Analytics\n",
    "    1. Semi-structured (JSON)\n",
    "    1. Tuning (Explain plan , join order)\n",
    "1. Data in system - learn, undertand, (??) \n",
    "1. RDBMS\n",
    "    1. Tables Design patterns - (OLTP, OLAP, DCNF,  Star schema, SCD , Snowflake, bigtable)\n",
    "1. Data flow\n",
    "    1. Batch\n",
    "    1. Events (streaming)\n",
    "    1. Lambda\n",
    "1. NoSQL\n",
    "    1. Document (Mongo, Elastic)\n",
    "    1. Graph\n",
    "1. File formats\n",
    "    1. csv\n",
    "    1. parquet\n",
    "    1. json\n",
    "    1. avro"
   ]
  },
  {
   "cell_type": "markdown",
   "id": "847479e7",
   "metadata": {},
   "source": [
    "### Software"
   ]
  },
  {
   "cell_type": "markdown",
   "id": "b610367e",
   "metadata": {},
   "source": [
    "1. Python (details below)\n",
    "2. Linux \n",
    "3. Git"
   ]
  },
  {
   "cell_type": "markdown",
   "id": "493289a6",
   "metadata": {},
   "source": [
    "## Python"
   ]
  },
  {
   "cell_type": "markdown",
   "id": "3a06de36",
   "metadata": {},
   "source": [
    "1. Crash Course\n",
    "1. Python concepts \n",
    "    1. O.O SOLID\n",
    "    1. Decorators\n",
    "    1. List comperhensions\n",
    "   \n",
    "1. Python libs\n",
    "    1. requests\n",
    "    1. Pandas\n",
    "    1. boto3\n",
    "    1. Flask/FastAPI\n",
    "\n",
    "1. Python tools\n",
    "    1. Pylint\n",
    "    1. pytest (using AAA method)"
   ]
  },
  {
   "cell_type": "markdown",
   "id": "79e6ecad",
   "metadata": {},
   "source": [
    "## Cloud and infrustructure "
   ]
  },
  {
   "cell_type": "markdown",
   "id": "4478adb7",
   "metadata": {},
   "source": [
    "Cloud\n",
    "- AWS\n",
    "<ol>\n",
    "<li>EC2</li>\n",
    "<li>S3</li>\n",
    "<li>Glue</li>\n",
    "<li>Athena</li>\n",
    "<li>Redshift/ Redshift specturm</li>\n",
    "<li>RDS</li>\n",
    "<li>Kinesis</li>\n",
    "<li>Firehouse</li>\n",
    "<li>Lambda</li>\n",
    "<li>SQS/Sns</li>\n",
    "</ol>\n",
    "\n"
   ]
  },
  {
   "cell_type": "markdown",
   "id": "f37fc57f",
   "metadata": {},
   "source": [
    "## Modern Pipeline and ETL"
   ]
  },
  {
   "cell_type": "markdown",
   "id": "859ebd0f",
   "metadata": {},
   "source": [
    "## the GaD framework\n",
    "## http://gad-co.ml/ \n",
    "<ol>\n",
    "<li>Airflow</li>\n",
    "<li>DBT</li>\n",
    "<li>Great Expectations</li>\n",
    "<li>AirByte</li>\n",
    "</ol>"
   ]
  },
  {
   "cell_type": "markdown",
   "id": "cbbb0e5f",
   "metadata": {},
   "source": [
    "## Big Data "
   ]
  },
  {
   "cell_type": "markdown",
   "id": "e0ee89d2",
   "metadata": {},
   "source": [
    "<ol>\n",
    "<li>Spark</li>\n",
    "<li>Hadop - not sure </li>\n",
    "<li>Kinesis</li>\n",
    "<li>FireHose</li>\n",
    "<li>DataBricks</li>\n",
    "</ol>"
   ]
  },
  {
   "cell_type": "markdown",
   "id": "8290bc87",
   "metadata": {},
   "source": [
    "## Advance topics "
   ]
  },
  {
   "cell_type": "markdown",
   "id": "b2124a2c",
   "metadata": {},
   "source": [
    "<ol>\n",
    "<li>DataOps</li>\n",
    "<li>MLOPS</li>\n",
    "</ol>"
   ]
  },
  {
   "cell_type": "markdown",
   "id": "0ce3cd58",
   "metadata": {},
   "source": [
    "# Soft skills "
   ]
  },
  {
   "cell_type": "markdown",
   "id": "cd4a1e1a",
   "metadata": {},
   "source": [
    "<ol>\n",
    "<li>Know youself</li>\n",
    "<li>Present Projects IN english</li>\n",
    "</ol>"
   ]
  },
  {
   "cell_type": "markdown",
   "id": "7b873303",
   "metadata": {},
   "source": [
    "# Tools and Methods"
   ]
  },
  {
   "cell_type": "markdown",
   "id": "56fdeb97",
   "metadata": {},
   "source": []
  },
  {
   "cell_type": "code",
   "execution_count": null,
   "id": "aaacb679",
   "metadata": {},
   "outputs": [],
   "source": []
  }
 ],
 "metadata": {
  "hide_input": false,
  "kernelspec": {
   "display_name": "Python 3",
   "language": "python",
   "name": "python3"
  },
  "language_info": {
   "codemirror_mode": {
    "name": "ipython",
    "version": 3
   },
   "file_extension": ".py",
   "mimetype": "text/x-python",
   "name": "python",
   "nbconvert_exporter": "python",
   "pygments_lexer": "ipython3",
   "version": "3.9.10"
  },
  "toc": {
   "base_numbering": 1,
   "nav_menu": {},
   "number_sections": true,
   "sideBar": true,
   "skip_h1_title": false,
   "title_cell": "Table of Contents",
   "title_sidebar": "Contents",
   "toc_cell": true,
   "toc_position": {},
   "toc_section_display": true,
   "toc_window_display": false
  },
  "varInspector": {
   "cols": {
    "lenName": 16,
    "lenType": 16,
    "lenVar": 40
   },
   "kernels_config": {
    "python": {
     "delete_cmd_postfix": "",
     "delete_cmd_prefix": "del ",
     "library": "var_list.py",
     "varRefreshCmd": "print(var_dic_list())"
    },
    "r": {
     "delete_cmd_postfix": ") ",
     "delete_cmd_prefix": "rm(",
     "library": "var_list.r",
     "varRefreshCmd": "cat(var_dic_list()) "
    }
   },
   "types_to_exclude": [
    "module",
    "function",
    "builtin_function_or_method",
    "instance",
    "_Feature"
   ],
   "window_display": false
  },
  "vp": {
   "base_numbering": 1,
   "nav_menu": {},
   "number_sections": true,
   "sideBar": true,
   "title_cell": "VisualPython",
   "title_sidebar": "VisualPython",
   "vpPosition": {
    "height": "calc(100% - 180px)",
    "right": "10px",
    "top": "110px",
    "width": "50%"
   },
   "vp_cell": false,
   "vp_section_display": true,
   "vp_window_display": false
  }
 },
 "nbformat": 4,
 "nbformat_minor": 5
}
